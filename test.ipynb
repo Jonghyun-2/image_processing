{
 "cells": [
  {
   "cell_type": "code",
   "execution_count": 2,
   "metadata": {},
   "outputs": [
    {
     "name": "stdout",
     "output_type": "stream",
     "text": [
      "Mode = draw cir\n",
      "Mode = draw rec\n",
      "Mode = draw cir\n",
      "Mode = draw rec\n",
      "Mode = draw cir\n",
      "Mode = draw rec\n",
      "Mode = draw cir\n",
      "Mode = draw rec\n",
      "Mode = draw cir\n",
      "Mode = draw rec\n",
      "Mode = draw cir\n",
      "Mode = draw rec\n",
      "Mode = draw cir\n"
     ]
    }
   ],
   "source": [
    "import cv2\n",
    "import numpy as np\n",
    "from skimage import data\n",
    "def draw_circle(event,x,y,flags,param):\n",
    "    if event == cv2.EVENT_LBUTTONDBLCLK: # double click event!\n",
    "        cv2.circle(img,(x,y),100,(255,0,0),-1)\n",
    "#     elif event == cv2.EVENT_FLAG_LBUTTON:\n",
    "#         print(\"x :\",x,\"y :\" ,y)\n",
    "#         print(\"BGR : \",img[y,x,:])\n",
    "    \n",
    "def draw_rec(event,x,y,flags,param):\n",
    "    if event == cv2.EVENT_LBUTTONDBLCLK: # double click event!\n",
    "        cv2.rectangle(img,(x,y),(x+100,y+100),(255,0,0),-1)\n",
    "        \n",
    "# Create a black image, a window and bind the function to window\n",
    "astro = data.astronaut()\n",
    "img = astro\n",
    "img = data.astronaut()\n",
    "cv2.namedWindow('image')\n",
    "cv2.setMouseCallback('image',draw_circle)\n",
    "mode = 0\n",
    "while(1):    \n",
    "    cv2.imshow('image',img)\n",
    "    if cv2.waitKey(5) & 0xFF == 27: # enter ESC\n",
    "        break\n",
    "    elif cv2.waitKey(5)& 0xFF == 48:\n",
    "        if(mode == 1):\n",
    "            print(\"Mode = draw rec\")\n",
    "            cv2.setMouseCallback('image',draw_rec)\n",
    "            mode = 0\n",
    "        else:\n",
    "            print(\"Mode = draw cir\")\n",
    "            cv2.setMouseCallback('image',draw_circle)\n",
    "            mode = 1\n",
    "cv2.destroyAllWindows()"
   ]
  }
 ],
 "metadata": {
  "kernelspec": {
   "display_name": "Python 3",
   "language": "python",
   "name": "python3"
  },
  "language_info": {
   "codemirror_mode": {
    "name": "ipython",
    "version": 3
   },
   "file_extension": ".py",
   "mimetype": "text/x-python",
   "name": "python",
   "nbconvert_exporter": "python",
   "pygments_lexer": "ipython3",
   "version": "3.7.3"
  }
 },
 "nbformat": 4,
 "nbformat_minor": 4
}
