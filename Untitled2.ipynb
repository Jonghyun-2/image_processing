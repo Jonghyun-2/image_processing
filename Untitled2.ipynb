{
 "cells": [
  {
   "cell_type": "code",
   "execution_count": 2,
   "metadata": {},
   "outputs": [],
   "source": [
    "import numpy as np\n",
    "import cv2"
   ]
  },
  {
   "cell_type": "code",
   "execution_count": 8,
   "metadata": {},
   "outputs": [],
   "source": [
    "#make mat\n",
    "img = np.zeros((512,512,3),dtype = np.uint8)\n",
    "\n",
    "#draw line\n",
    "img = cv2.line(img,(128,0),(128,511),(255,0,0),3)\n",
    "img = cv2.rectangle(img,(0,384),(128,511),(0,255,0),-1)\n",
    "cv2.imshow(\"img\",img)\n",
    "cv2.waitKey()\n",
    "cv2.destroyAllWindows()"
   ]
  },
  {
   "cell_type": "code",
   "execution_count": 9,
   "metadata": {},
   "outputs": [],
   "source": [
    "#make function\n",
    "def line_func(img, startPoint, endPoint, color, thickness):\n",
    "    line_draw_img = cv2.line(img,startPoint,endPoint,color,thickness)\n",
    "    return line_draw_img\n",
    "\n",
    "def rectangle_func(img,tl,br,color,thickness):\n",
    "    rectangle_draw_img = cv2.rectangle(img,tl,br,color,thickness)\n",
    "    return rectangle_draw_img"
   ]
  },
  {
   "cell_type": "code",
   "execution_count": 10,
   "metadata": {},
   "outputs": [],
   "source": [
    "#make mat\n",
    "img = np.zeros((512,512,3),dtype = np.uint8)\n",
    "\n",
    "#draw line\n",
    "img = line_func(img,(128,0),(128,511),(255,0,0),3)\n",
    "img = rectangle_func(img,(0,384),(128,511),(0,255,0),-1)\n",
    "cv2.imshow(\"img\",img)\n",
    "cv2.waitKey()\n",
    "cv2.destroyAllWindows()"
   ]
  },
  {
   "cell_type": "markdown",
   "metadata": {},
   "source": [
    "# Mouse Callback"
   ]
  },
  {
   "cell_type": "code",
   "execution_count": 44,
   "metadata": {},
   "outputs": [
    {
     "data": {
      "text/plain": [
       "['EVENT_FLAG_ALTKEY',\n",
       " 'EVENT_FLAG_CTRLKEY',\n",
       " 'EVENT_FLAG_LBUTTON',\n",
       " 'EVENT_FLAG_MBUTTON',\n",
       " 'EVENT_FLAG_RBUTTON',\n",
       " 'EVENT_FLAG_SHIFTKEY',\n",
       " 'EVENT_LBUTTONDBLCLK',\n",
       " 'EVENT_LBUTTONDOWN',\n",
       " 'EVENT_LBUTTONUP',\n",
       " 'EVENT_MBUTTONDBLCLK',\n",
       " 'EVENT_MBUTTONDOWN',\n",
       " 'EVENT_MBUTTONUP',\n",
       " 'EVENT_MOUSEHWHEEL',\n",
       " 'EVENT_MOUSEMOVE',\n",
       " 'EVENT_MOUSEWHEEL',\n",
       " 'EVENT_RBUTTONDBLCLK',\n",
       " 'EVENT_RBUTTONDOWN',\n",
       " 'EVENT_RBUTTONUP']"
      ]
     },
     "execution_count": 44,
     "metadata": {},
     "output_type": "execute_result"
    }
   ],
   "source": [
    "import cv2\n",
    "\n",
    "events = [i for i in dir(cv2) if \"EVENT\" in i]\n",
    "events"
   ]
  },
  {
   "cell_type": "code",
   "execution_count": 2,
   "metadata": {},
   "outputs": [],
   "source": [
    "\n"
   ]
  },
  {
   "cell_type": "code",
   "execution_count": 32,
   "metadata": {},
   "outputs": [
    {
     "name": "stdout",
     "output_type": "stream",
     "text": [
      "x : 96 y : 100\n",
      "BGR :  [184 175 165]\n",
      "x : 96 y : 100\n",
      "BGR :  [255   0   0]\n",
      "x : 206 y : 96\n",
      "BGR :  [147 111  86]\n",
      "x : 206 y : 96\n",
      "BGR :  [255   0   0]\n",
      "x : 235 y : 146\n",
      "BGR :  [114  74  39]\n",
      "x : 235 y : 146\n",
      "BGR :  [255   0   0]\n",
      "x : 266 y : 119\n",
      "BGR :  [154 127  98]\n",
      "x : 265 y : 141\n",
      "BGR :  [130 103  77]\n",
      "x : 287 y : 214\n",
      "BGR :  [43 33 32]\n",
      "x : 335 y : 280\n",
      "BGR :  [172  63  15]\n",
      "x : 302 y : 370\n",
      "BGR :  [ 85  68 103]\n",
      "x : 51 y : 129\n",
      "BGR :  [159 110 106]\n",
      "x : 282 y : 151\n",
      "BGR :  [217 208 207]\n",
      "x : 315 y : 92\n",
      "BGR :  [206 193 186]\n"
     ]
    }
   ],
   "source": [
    "import cv2\n",
    "import numpy as np\n",
    "from skimage import data\n",
    "def draw_circle(event,x,y,flags,param):\n",
    "    if event == cv2.EVENT_LBUTTONDBLCLK: # double click event!\n",
    "        cv2.circle(img,(x,y),100,(255,0,0),-1)\n",
    "    elif event == cv2.EVENT_FLAG_LBUTTON:\n",
    "        print(\"x :\",x,\"y :\" ,y)\n",
    "        print(\"BGR : \",img[y,x,:])\n",
    "    \n",
    "# Create a black image, a window and bind the function to window\n",
    "astro = data.astronaut()\n",
    "img = astro\n",
    "img = data.astronaut()\n",
    "cv2.namedWindow('image')\n",
    "cv2.setMouseCallback('image',draw_circle)\n",
    "\n",
    "while(1):    \n",
    "    cv2.imshow('image',img)\n",
    "    if cv2.waitKey(200) & 0xFF == 27: # enter ESC\n",
    "        break\n",
    "cv2.destroyAllWindows()"
   ]
  },
  {
   "cell_type": "code",
   "execution_count": 21,
   "metadata": {},
   "outputs": [
    {
     "data": {
      "text/plain": [
       "103"
      ]
     },
     "execution_count": 21,
     "metadata": {},
     "output_type": "execute_result"
    }
   ],
   "source": [
    "img[0,1,1]"
   ]
  },
  {
   "cell_type": "code",
   "execution_count": 18,
   "metadata": {},
   "outputs": [
    {
     "data": {
      "text/plain": [
       "array([[154, 147, 151],\n",
       "       [109, 103, 124],\n",
       "       [ 63,  58, 102],\n",
       "       ...,\n",
       "       [127, 120, 115],\n",
       "       [120, 117, 106],\n",
       "       [125, 119, 110]], dtype=uint8)"
      ]
     },
     "execution_count": 18,
     "metadata": {},
     "output_type": "execute_result"
    }
   ],
   "source": [
    "img[0]"
   ]
  },
  {
   "cell_type": "code",
   "execution_count": 12,
   "metadata": {},
   "outputs": [
    {
     "name": "stdout",
     "output_type": "stream",
     "text": [
      "Mode = draw cir\n",
      "Mode = draw rec\n",
      "Mode = draw cir\n",
      "Mode = draw rec\n",
      "Mode = draw cir\n"
     ]
    }
   ],
   "source": [
    "import cv2\n",
    "import numpy as np\n",
    "from skimage import data\n",
    "def draw_circle(event,x,y,flags,param):\n",
    "    if event == cv2.EVENT_LBUTTONDBLCLK: # double click event!\n",
    "        cv2.circle(img,(x,y),100,(255,0,0),-1)\n",
    "#     elif event == cv2.EVENT_FLAG_LBUTTON:\n",
    "#         print(\"x :\",x,\"y :\" ,y)\n",
    "#         print(\"BGR : \",img[y,x,:])\n",
    "    \n",
    "def draw_rec(event,x,y,flags,param):\n",
    "    if event == cv2.EVENT_LBUTTONDBLCLK: # double click event!\n",
    "        cv2.rectangle(img,(x,y),(x+100,y+100),(255,0,0),-1)\n",
    "        \n",
    "# Create a black image, a window and bind the function to window\n",
    "astro = data.astronaut()\n",
    "img = astro\n",
    "img = data.astronaut()\n",
    "cv2.namedWindow('image')\n",
    "cv2.setMouseCallback('image',draw_circle)\n",
    "mode = 0\n",
    "while(1):    \n",
    "    cv2.imshow('image',img)\n",
    "    if cv2.waitKey(5) & 0xFF == 27: # enter ESC\n",
    "        break\n",
    "    elif cv2.waitKey(5)& 0xFF == 48:\n",
    "        if(mode == 1):\n",
    "            print(\"Mode = draw rec\")\n",
    "            cv2.setMouseCallback('image',draw_rec)\n",
    "            mode = 0\n",
    "        else:\n",
    "            print(\"Mode = draw cir\")\n",
    "            cv2.setMouseCallback('image',draw_circle)\n",
    "            mode = 1\n",
    "cv2.destroyAllWindows()"
   ]
  }
 ],
 "metadata": {
  "kernelspec": {
   "display_name": "Python 3",
   "language": "python",
   "name": "python3"
  },
  "language_info": {
   "codemirror_mode": {
    "name": "ipython",
    "version": 3
   },
   "file_extension": ".py",
   "mimetype": "text/x-python",
   "name": "python",
   "nbconvert_exporter": "python",
   "pygments_lexer": "ipython3",
   "version": "3.7.3"
  }
 },
 "nbformat": 4,
 "nbformat_minor": 4
}
